{
 "cells": [
  {
   "cell_type": "code",
   "execution_count": 10,
   "metadata": {
    "collapsed": true
   },
   "outputs": [],
   "source": [
    "import pandas as pd \n",
    "from datetime import datetime, date, time, timedelta\n",
    "\n",
    "df = pd.read_csv(\"crime.csv\") "
   ]
  },
  {
   "cell_type": "code",
   "execution_count": 11,
   "metadata": {
    "collapsed": true,
    "scrolled": true
   },
   "outputs": [],
   "source": [
    "df['DATE'], df['TIME'] = df['FIRST_OCCURRENCE_DATE'].str.split(' ', 1).str\n",
    "\n",
    "\n",
    "df['DATE'] = pd.to_datetime(df['DATE'])\n",
    "df['day_of_week'] = df['DATE'].dt.day_name()"
   ]
  },
  {
   "cell_type": "code",
   "execution_count": 12,
   "metadata": {
    "collapsed": true
   },
   "outputs": [],
   "source": [
    "df = df[['OFFENSE_CATEGORY_ID', 'TIME', 'day_of_week','NEIGHBORHOOD_ID','GEO_LAT','GEO_LON']]\n",
    "df_All_am =  df.loc[df.TIME.str[-2:] == \"AM\" ].copy()\n",
    "df_All_am['TIME'] = [x[:-3] for x in df_All_am['TIME']]\n",
    "df_All_am['TIME'] =  pd.to_datetime(df_All_am['TIME'], format='%H:%M:%S')\n",
    "\n",
    "\n",
    "df_All_pm =  df.loc[df.TIME.str[-2:] == \"PM\" ].copy()\n",
    "df_All_pm['TIME'] = [x[:-3] for x in df_All_pm['TIME']]\n",
    "df_All_pm['TIME'] =  pd.to_datetime(df_All_pm['TIME'], format='%H:%M:%S')\n",
    "df_All_pm['TIME'] = df_All_pm['TIME'] + timedelta(hours=12)\n"
   ]
  },
  {
   "cell_type": "code",
   "execution_count": 13,
   "metadata": {
    "collapsed": true
   },
   "outputs": [],
   "source": [
    "final = pd.concat([df_All_am, df_All_pm], ignore_index=True, sort =False)\n",
    "\n",
    "block1 = '09/19/18 04:00:00'\n",
    "block2 = '09/19/18 08:00:00'\n",
    "block3 = '09/19/18 12:00:00'\n",
    "block4 = '09/19/18 16:00:00'\n",
    "block5 = '09/19/18 20:00:00'\n",
    "block6 = '09/19/18 23:59:00'\n",
    "datetime_object1 = datetime.strptime(block1, '%m/%d/%y %H:%M:%S')\n",
    "datetime_object2 = datetime.strptime(block2, '%m/%d/%y %H:%M:%S')\n",
    "datetime_object3 = datetime.strptime(block3, '%m/%d/%y %H:%M:%S')\n",
    "datetime_object4 = datetime.strptime(block4, '%m/%d/%y %H:%M:%S')\n",
    "datetime_object5 = datetime.strptime(block5, '%m/%d/%y %H:%M:%S')\n",
    "datetime_object6 = datetime.strptime(block6, '%m/%d/%y %H:%M:%S')\n"
   ]
  },
  {
   "cell_type": "code",
   "execution_count": 14,
   "metadata": {
    "collapsed": true,
    "scrolled": true
   },
   "outputs": [],
   "source": [
    "final.loc[final['TIME'].dt.time <= datetime_object1.time(), 'TIME'] = datetime_object1\n",
    "\n",
    "final.loc[(final['TIME'].dt.time > datetime_object1.time())&(final['TIME'].dt.time <= datetime_object2.time()), 'TIME'] = datetime_object2\n",
    "\n",
    "final.loc[(final['TIME'].dt.time > datetime_object2.time())&(final['TIME'].dt.time <= datetime_object3.time()), 'TIME'] = datetime_object3\n",
    "\n",
    "final.loc[(final['TIME'].dt.time > datetime_object3.time())&(final['TIME'].dt.time <= datetime_object4.time()), 'TIME'] = datetime_object4\n",
    "\n",
    "final.loc[(final['TIME'].dt.time > datetime_object4.time())&(final['TIME'].dt.time <= datetime_object5.time()), 'TIME'] = datetime_object5\n",
    "\n",
    "final.loc[(final['TIME'].dt.time > datetime_object5.time())&(final['TIME'].dt.time <= datetime_object6.time()), 'TIME'] = datetime_object6\n",
    "\n",
    "\n",
    "\n",
    "final['TIME'] = [d.time() for d in final['TIME']]"
   ]
  },
  {
   "cell_type": "code",
   "execution_count": 18,
   "metadata": {},
   "outputs": [
    {
     "name": "stdout",
     "output_type": "stream",
     "text": [
      "item: ('20:00:00', 'Saturday', 'cbd') , 0.002\r\n",
      "item: ('20:00:00', 'Friday', 'cbd') , 0.002\r\n",
      "item: ('five-points', '20:00:00', 'Monday') , 0.002\r\n",
      "item: ('five-points', '20:00:00', 'Friday') , 0.002\r\n",
      "item: ('five-points', '20:00:00', 'Tuesday') , 0.002\r\n",
      "item: ('five-points', 'Wednesday', '20:00:00') , 0.002\r\n",
      "item: ('stapleton', '16:00:00', 'Thursday') , 0.002\r\n",
      "item: ('five-points', '20:00:00', 'Thursday') , 0.002\r\n",
      "item: ('23:59:00', 'five-points', 'Saturday') , 0.002\r\n",
      "item: ('stapleton', '20:00:00', 'Friday') , 0.002\r\n",
      "item: ('23:59:00', 'five-points', 'Friday') , 0.002\r\n"
     ]
    }
   ],
   "source": [
    "final_csv = final[['day_of_week','NEIGHBORHOOD_ID', 'TIME']]\n",
    "final_plot = final[['day_of_week','NEIGHBORHOOD_ID', 'TIME','GEO_LAT','GEO_LON']]\n",
    "final_csv = final_csv.sample(20000)\n",
    "final_csv.to_csv('../CSV/All_Crimes.csv')\n",
    "\n",
    "final_plot.to_csv('../CSV/All_Crimes_Plot.csv')\n",
    "\n",
    "\n",
    "!python apriori.py -f '../CSV/All_Crimes.csv' -s 0.0017"
   ]
  }
 ],
 "metadata": {
  "kernelspec": {
   "display_name": "Python 3",
   "language": "python",
   "name": "python3"
  },
  "language_info": {
   "codemirror_mode": {
    "name": "ipython",
    "version": 3
   },
   "file_extension": ".py",
   "mimetype": "text/x-python",
   "name": "python",
   "nbconvert_exporter": "python",
   "pygments_lexer": "ipython3",
   "version": "3.6.2"
  }
 },
 "nbformat": 4,
 "nbformat_minor": 2
}
