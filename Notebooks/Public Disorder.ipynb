{
 "cells": [
  {
   "cell_type": "code",
   "execution_count": 1,
   "metadata": {
    "collapsed": true
   },
   "outputs": [],
   "source": [
    "import pandas as pd \n",
    "from datetime import datetime, date, time, timedelta\n",
    "\n",
    " \n",
    "df = pd.read_csv(\"crime.csv\") \n",
    "df.head()\n",
    "df['DATE'], df['TIME'] = df['FIRST_OCCURRENCE_DATE'].str.split(' ', 1).str\n",
    "\n",
    "\n",
    "df['DATE'] = pd.to_datetime(df['DATE'])\n",
    "df['day_of_week'] = df['DATE'].dt.day_name()"
   ]
  },
  {
   "cell_type": "code",
   "execution_count": 2,
   "metadata": {
    "collapsed": true
   },
   "outputs": [],
   "source": [
    "df_PD = df[['OFFENSE_CATEGORY_ID', 'TIME', 'day_of_week','NEIGHBORHOOD_ID','GEO_LAT','GEO_LON']]\n",
    "df_PD = df_PD.loc[df_PD.OFFENSE_CATEGORY_ID == 'public-disorder'].copy()\n",
    "df_PD_am =  df_PD.loc[df_PD.TIME.str[-2:] == \"AM\" ].copy()\n",
    "df_PD_am['TIME'] = [x[:-3] for x in df_PD_am['TIME']]\n",
    "df_PD_am['TIME'] =  pd.to_datetime(df_PD_am['TIME'], format='%H:%M:%S')\n",
    "\n",
    "df_PD = df_PD[['OFFENSE_CATEGORY_ID', 'TIME', 'day_of_week','NEIGHBORHOOD_ID','GEO_LAT','GEO_LON']]\n",
    "df_PD = df_PD.loc[df_PD.OFFENSE_CATEGORY_ID == 'public-disorder'].copy()\n",
    "df_PD_pm =  df_PD.loc[df_PD.TIME.str[-2:] == \"PM\" ].copy()\n",
    "df_PD_pm['TIME'] = [x[:-3] for x in df_PD_pm['TIME']]\n",
    "df_PD_pm['TIME'] =  pd.to_datetime(df_PD_pm['TIME'], format='%H:%M:%S')\n",
    "df_PD_pm['TIME'] = df_PD_pm['TIME'] + timedelta(hours=12)\n"
   ]
  },
  {
   "cell_type": "code",
   "execution_count": 3,
   "metadata": {},
   "outputs": [],
   "source": [
    "final_PD = pd.concat([df_PD_am, df_PD_pm], ignore_index=True, sort =False)\n",
    "\n",
    "block1 = '09/19/18 04:00:00'\n",
    "block2 = '09/19/18 08:00:00'\n",
    "block3 = '09/19/18 12:00:00'\n",
    "block4 = '09/19/18 16:00:00'\n",
    "block5 = '09/19/18 20:00:00'\n",
    "block6 = '09/19/18 23:59:00'\n",
    "datetime_object1 = datetime.strptime(block1, '%m/%d/%y %H:%M:%S')\n",
    "datetime_object2 = datetime.strptime(block2, '%m/%d/%y %H:%M:%S')\n",
    "datetime_object3 = datetime.strptime(block3, '%m/%d/%y %H:%M:%S')\n",
    "datetime_object4 = datetime.strptime(block4, '%m/%d/%y %H:%M:%S')\n",
    "datetime_object5 = datetime.strptime(block5, '%m/%d/%y %H:%M:%S')\n",
    "datetime_object6 = datetime.strptime(block6, '%m/%d/%y %H:%M:%S')\n",
    "\n",
    "\n",
    "final_PD.loc[final_PD['TIME'].dt.time <= datetime_object1.time(), 'TIME'] = datetime_object1\n",
    "\n",
    "final_PD.loc[(final_PD['TIME'].dt.time > datetime_object1.time())&(final_PD['TIME'].dt.time <= datetime_object2.time()), 'TIME'] = datetime_object2\n",
    "\n",
    "final_PD.loc[(final_PD['TIME'].dt.time > datetime_object2.time())&(final_PD['TIME'].dt.time <= datetime_object3.time()), 'TIME'] = datetime_object3\n",
    "\n",
    "final_PD.loc[(final_PD['TIME'].dt.time > datetime_object3.time())&(final_PD['TIME'].dt.time <= datetime_object4.time()), 'TIME'] = datetime_object4\n",
    "\n",
    "final_PD.loc[(final_PD['TIME'].dt.time > datetime_object4.time())&(final_PD['TIME'].dt.time <= datetime_object5.time()), 'TIME'] = datetime_object5\n",
    "\n",
    "final_PD.loc[(final_PD['TIME'].dt.time > datetime_object5.time())&(final_PD['TIME'].dt.time <= datetime_object6.time()), 'TIME'] = datetime_object6\n",
    "\n",
    "\n",
    "\n",
    "final_PD['TIME'] = [d.time() for d in final_PD['TIME']]"
   ]
  },
  {
   "cell_type": "code",
   "execution_count": 4,
   "metadata": {},
   "outputs": [
    {
     "name": "stdout",
     "output_type": "stream",
     "text": [
      "item: ('Tuesday', '20:00:00', 'five-points') , 0.002\r\n",
      "item: ('montbello', 'Thursday', '16:00:00') , 0.002\r\n",
      "item: ('23:59:00', 'five-points', 'Saturday') , 0.002\r\n",
      "item: ('Sunday', '04:00:00', 'union-station') , 0.002\r\n"
     ]
    }
   ],
   "source": [
    "PD_csv = final_PD[['day_of_week','NEIGHBORHOOD_ID', 'TIME']]\n",
    "PD_plot = final_PD[['day_of_week','NEIGHBORHOOD_ID', 'TIME','GEO_LAT','GEO_LON']]\n",
    "PD_csv = PD_csv.sample(30000)\n",
    "PD_csv.to_csv('../CSV/PD.csv')\n",
    "PD_plot.to_csv('../CSV/PD_plot.csv')\n",
    "\n",
    "\n",
    "!python apriori.py -f '../CSV/PD.csv' -s 0.002"
   ]
  },
  {
   "cell_type": "code",
   "execution_count": null,
   "metadata": {
    "collapsed": true
   },
   "outputs": [],
   "source": []
  }
 ],
 "metadata": {
  "kernelspec": {
   "display_name": "Python 3",
   "language": "python",
   "name": "python3"
  },
  "language_info": {
   "codemirror_mode": {
    "name": "ipython",
    "version": 3
   },
   "file_extension": ".py",
   "mimetype": "text/x-python",
   "name": "python",
   "nbconvert_exporter": "python",
   "pygments_lexer": "ipython3",
   "version": "3.6.2"
  }
 },
 "nbformat": 4,
 "nbformat_minor": 2
}
