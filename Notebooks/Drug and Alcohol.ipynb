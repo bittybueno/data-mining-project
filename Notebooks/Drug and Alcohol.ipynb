{
 "cells": [
  {
   "cell_type": "code",
   "execution_count": 1,
   "metadata": {},
   "outputs": [],
   "source": [
    "import pandas as pd \n",
    "from datetime import datetime, date, time, timedelta\n",
    "\n",
    "df = pd.read_csv(\"crime.csv\") "
   ]
  },
  {
   "cell_type": "code",
   "execution_count": 10,
   "metadata": {
    "collapsed": true,
    "scrolled": true
   },
   "outputs": [],
   "source": [
    "df['DATE'], df['TIME'] = df['FIRST_OCCURRENCE_DATE'].str.split(' ', 1).str\n",
    "df['DATE'] = pd.to_datetime(df['DATE'])\n",
    "df['day_of_week'] = df['DATE'].dt.day_name()"
   ]
  },
  {
   "cell_type": "code",
   "execution_count": 11,
   "metadata": {
    "collapsed": true,
    "scrolled": true
   },
   "outputs": [],
   "source": [
    "df_DA = df[['OFFENSE_CATEGORY_ID', 'TIME', 'day_of_week','NEIGHBORHOOD_ID','GEO_LAT','GEO_LON']]\n",
    "df_DA = df_DA.loc[df_DA.OFFENSE_CATEGORY_ID == 'drug-alcohol'].copy()\n",
    "df_DA_am =  df_DA.loc[df_DA.TIME.str[-2:] == \"AM\" ].copy()\n",
    "df_DA_am['TIME'] = [x[:-3] for x in df_DA_am['TIME']]\n",
    "df_DA_am['TIME'] =  pd.to_datetime(df_DA_am['TIME'], format='%H:%M:%S')\n",
    "\n",
    "df_DA = df[['OFFENSE_CATEGORY_ID', 'TIME', 'day_of_week','NEIGHBORHOOD_ID','GEO_LAT','GEO_LON']]\n",
    "df_DA = df.loc[df.OFFENSE_CATEGORY_ID == 'drug-alcohol'].copy()\n",
    "df_DA_pm =  df_DA.loc[df_DA.TIME.str[-2:] == \"PM\" ].copy()\n",
    "df_DA_pm['TIME'] = [x[:-3] for x in df_DA_pm['TIME']]\n",
    "df_DA_pm['TIME'] =  pd.to_datetime(df_DA_pm['TIME'], format='%H:%M:%S')\n",
    "df_DA_pm['TIME'] = df_DA_pm['TIME'] + timedelta(hours=12)"
   ]
  },
  {
   "cell_type": "code",
   "execution_count": 12,
   "metadata": {
    "collapsed": true
   },
   "outputs": [],
   "source": [
    "final_DA = pd.concat([df_DA_am, df_DA_pm], ignore_index=True, sort =False)\n",
    "\n",
    "block1 = '09/19/18 04:00:00'\n",
    "block2 = '09/19/18 08:00:00'\n",
    "block3 = '09/19/18 12:00:00'\n",
    "block4 = '09/19/18 16:00:00'\n",
    "block5 = '09/19/18 20:00:00'\n",
    "block6 = '09/19/18 23:59:00'\n",
    "datetime_object1 = datetime.strptime(block1, '%m/%d/%y %H:%M:%S')\n",
    "datetime_object2 = datetime.strptime(block2, '%m/%d/%y %H:%M:%S')\n",
    "datetime_object3 = datetime.strptime(block3, '%m/%d/%y %H:%M:%S')\n",
    "datetime_object4 = datetime.strptime(block4, '%m/%d/%y %H:%M:%S')\n",
    "datetime_object5 = datetime.strptime(block5, '%m/%d/%y %H:%M:%S')\n",
    "datetime_object6 = datetime.strptime(block6, '%m/%d/%y %H:%M:%S')\n"
   ]
  },
  {
   "cell_type": "code",
   "execution_count": 13,
   "metadata": {
    "collapsed": true,
    "scrolled": true
   },
   "outputs": [],
   "source": [
    "final_DA.loc[final_DA['TIME'].dt.time <= datetime_object1.time(), 'TIME'] = datetime_object1\n",
    "\n",
    "final_DA.loc[(final_DA['TIME'].dt.time > datetime_object1.time())&(final_DA['TIME'].dt.time <= datetime_object2.time()), 'TIME'] = datetime_object2\n",
    "\n",
    "final_DA.loc[(final_DA['TIME'].dt.time > datetime_object2.time())&(final_DA['TIME'].dt.time <= datetime_object3.time()), 'TIME'] = datetime_object3\n",
    "\n",
    "final_DA.loc[(final_DA['TIME'].dt.time > datetime_object3.time())&(final_DA['TIME'].dt.time <= datetime_object4.time()), 'TIME'] = datetime_object4\n",
    "\n",
    "final_DA.loc[(final_DA['TIME'].dt.time > datetime_object4.time())&(final_DA['TIME'].dt.time <= datetime_object5.time()), 'TIME'] = datetime_object5\n",
    "\n",
    "final_DA.loc[(final_DA['TIME'].dt.time > datetime_object5.time())&(final_DA['TIME'].dt.time <= datetime_object6.time()), 'TIME'] = datetime_object6\n",
    "\n",
    "\n",
    "\n",
    "final_DA['TIME'] = [d.time() for d in final_DA['TIME']]"
   ]
  },
  {
   "cell_type": "code",
   "execution_count": 7,
   "metadata": {},
   "outputs": [
    {
     "name": "stdout",
     "output_type": "stream",
     "text": [
      "item: ('cheesman-park', 'Tuesday', '20:00:00') , 0.005\r\n",
      "item: ('Tuesday', '16:00:00', 'five-points') , 0.005\r\n",
      "item: ('23:59:00', 'five-points', 'Friday') , 0.005\r\n",
      "item: ('cheesman-park', 'Monday', '20:00:00') , 0.006\r\n",
      "item: ('Saturday', 'five-points', '20:00:00') , 0.006\r\n",
      "item: ('capitol-hill', 'Thursday', '20:00:00') , 0.006\r\n",
      "item: ('cheesman-park', '20:00:00', 'Wednesday') , 0.006\r\n",
      "item: ('capitol-hill', '20:00:00', 'Wednesday') , 0.006\r\n",
      "item: ('five-points', '20:00:00', 'Friday') , 0.006\r\n",
      "item: ('Monday', 'five-points', '20:00:00') , 0.007\r\n",
      "item: ('Tuesday', 'five-points', '20:00:00') , 0.009\r\n",
      "item: ('Thursday', 'five-points', '20:00:00') , 0.009\r\n",
      "item: ('five-points', '20:00:00', 'Wednesday') , 0.010\r\n"
     ]
    }
   ],
   "source": [
    "DA_csv = final_DA[['day_of_week','NEIGHBORHOOD_ID', 'TIME']]\n",
    "DA_plot = final_DA[['day_of_week','NEIGHBORHOOD_ID', 'TIME','GEO_LAT','GEO_LON']]\n",
    "DA_csv = DA_csv.sample(30000)\n",
    "DA_csv.to_csv('../CSV/DA.csv')\n",
    "DA_plot.to_csv('../CSV/DA_Plot.csv')\n",
    "\n",
    "\n",
    "!python apriori.py -f '../CSV/DA.csv' -s 0.005"
   ]
  },
  {
   "cell_type": "code",
   "execution_count": null,
   "metadata": {
    "collapsed": true
   },
   "outputs": [],
   "source": []
  }
 ],
 "metadata": {
  "kernelspec": {
   "display_name": "Python 3",
   "language": "python",
   "name": "python3"
  },
  "language_info": {
   "codemirror_mode": {
    "name": "ipython",
    "version": 3
   },
   "file_extension": ".py",
   "mimetype": "text/x-python",
   "name": "python",
   "nbconvert_exporter": "python",
   "pygments_lexer": "ipython3",
   "version": "3.6.2"
  }
 },
 "nbformat": 4,
 "nbformat_minor": 2
}
