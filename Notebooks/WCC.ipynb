{
 "cells": [
  {
   "cell_type": "code",
   "execution_count": 1,
   "metadata": {
    "collapsed": true,
    "scrolled": true
   },
   "outputs": [],
   "source": [
    "import pandas as pd \n",
    "from datetime import datetime, date, time, timedelta\n",
    "\n",
    "df = pd.read_csv(\"crime.csv\") \n"
   ]
  },
  {
   "cell_type": "code",
   "execution_count": 2,
   "metadata": {
    "collapsed": true
   },
   "outputs": [],
   "source": [
    "df['DATE'], df['TIME'] = df['FIRST_OCCURRENCE_DATE'].str.split(' ', 1).str\n",
    "df['DATE'] = pd.to_datetime(df['DATE'])\n",
    "df['day_of_week'] = df['DATE'].dt.day_name()\n"
   ]
  },
  {
   "cell_type": "code",
   "execution_count": 3,
   "metadata": {
    "collapsed": true
   },
   "outputs": [],
   "source": [
    "df_WCC = df[['OFFENSE_CATEGORY_ID', 'TIME', 'day_of_week','NEIGHBORHOOD_ID', 'GEO_LON', 'GEO_LAT']]\n",
    "df_WCC = df_WCC.loc[df_WCC.OFFENSE_CATEGORY_ID == 'white-collar-crime'].copy()\n",
    "df_WCC_am =  df_WCC.loc[df_WCC.TIME.str[-2:] == \"AM\" ].copy()\n",
    "df_WCC_am['TIME'] = [x[:-3] for x in df_WCC_am['TIME']]\n",
    "df_WCC_am['TIME'] =  pd.to_datetime(df_WCC_am['TIME'], format='%H:%M:%S')\n",
    "\n",
    "df_WCC = df_WCC[['OFFENSE_CATEGORY_ID', 'TIME', 'day_of_week','NEIGHBORHOOD_ID', 'GEO_LON', 'GEO_LAT']]\n",
    "df_WCC = df_WCC.loc[df_WCC.OFFENSE_CATEGORY_ID == 'white-collar-crime'].copy()\n",
    "df_WCC_pm =  df_WCC.loc[df_WCC.TIME.str[-2:] == \"PM\" ].copy()\n",
    "df_WCC_pm['TIME'] = [x[:-3] for x in df_WCC_pm['TIME']]\n",
    "df_WCC_pm['TIME'] =  pd.to_datetime(df_WCC_pm['TIME'], format='%H:%M:%S')\n",
    "df_WCC_pm['TIME'] = df_WCC_pm['TIME'] + timedelta(hours=12)"
   ]
  },
  {
   "cell_type": "code",
   "execution_count": 4,
   "metadata": {
    "collapsed": true
   },
   "outputs": [],
   "source": [
    "final_WCC = pd.concat([df_WCC_am, df_WCC_pm], ignore_index=True, sort =False)\n",
    "\n",
    "block1 = '09/19/18 04:00:00'\n",
    "block2 = '09/19/18 08:00:00'\n",
    "block3 = '09/19/18 12:00:00'\n",
    "block4 = '09/19/18 16:00:00'\n",
    "block5 = '09/19/18 20:00:00'\n",
    "block6 = '09/19/18 23:59:00'\n",
    "datetime_object1 = datetime.strptime(block1, '%m/%d/%y %H:%M:%S')\n",
    "datetime_object2 = datetime.strptime(block2, '%m/%d/%y %H:%M:%S')\n",
    "datetime_object3 = datetime.strptime(block3, '%m/%d/%y %H:%M:%S')\n",
    "datetime_object4 = datetime.strptime(block4, '%m/%d/%y %H:%M:%S')\n",
    "datetime_object5 = datetime.strptime(block5, '%m/%d/%y %H:%M:%S')\n",
    "datetime_object6 = datetime.strptime(block6, '%m/%d/%y %H:%M:%S')\n"
   ]
  },
  {
   "cell_type": "code",
   "execution_count": 5,
   "metadata": {
    "collapsed": true
   },
   "outputs": [],
   "source": [
    "final_WCC.loc[final_WCC['TIME'].dt.time <= datetime_object1.time(), 'TIME'] = datetime_object1\n",
    "\n",
    "final_WCC.loc[(final_WCC['TIME'].dt.time > datetime_object1.time())&(final_WCC['TIME'].dt.time <= datetime_object2.time()), 'TIME'] = datetime_object2\n",
    "\n",
    "final_WCC.loc[(final_WCC['TIME'].dt.time > datetime_object2.time())&(final_WCC['TIME'].dt.time <= datetime_object3.time()), 'TIME'] = datetime_object3\n",
    "\n",
    "final_WCC.loc[(final_WCC['TIME'].dt.time > datetime_object3.time())&(final_WCC['TIME'].dt.time <= datetime_object4.time()), 'TIME'] = datetime_object4\n",
    "\n",
    "final_WCC.loc[(final_WCC['TIME'].dt.time > datetime_object4.time())&(final_WCC['TIME'].dt.time <= datetime_object5.time()), 'TIME'] = datetime_object5\n",
    "\n",
    "final_WCC.loc[(final_WCC['TIME'].dt.time > datetime_object5.time())&(final_WCC['TIME'].dt.time <= datetime_object6.time()), 'TIME'] = datetime_object6\n",
    "\n",
    "\n",
    "\n",
    "final_WCC['TIME'] = [d.time() for d in final_WCC['TIME']]"
   ]
  },
  {
   "cell_type": "code",
   "execution_count": 6,
   "metadata": {},
   "outputs": [
    {
     "name": "stdout",
     "output_type": "stream",
     "text": [
      "item: ('Monday', 'dia', '23:59:00') , 0.003\r\n",
      "item: ('12:00:00', 'dia', 'Tuesday') , 0.003\r\n",
      "item: ('Thursday', 'cbd', '20:00:00') , 0.003\r\n",
      "item: ('cbd', 'Friday', '16:00:00') , 0.003\r\n",
      "item: ('stapleton', '16:00:00', 'Tuesday') , 0.003\r\n",
      "item: ('12:00:00', 'Friday', 'dia') , 0.003\r\n",
      "item: ('cherry-creek', '16:00:00', 'Wednesday') , 0.003\r\n",
      "item: ('Monday', 'stapleton', '16:00:00') , 0.003\r\n",
      "item: ('Thursday', 'dia', '20:00:00') , 0.003\r\n",
      "item: ('12:00:00', 'Friday', 'montbello') , 0.003\r\n"
     ]
    }
   ],
   "source": [
    "WCC_csv = final_WCC[['day_of_week','NEIGHBORHOOD_ID', 'TIME']]\n",
    "WCC_plot = final_WCC[['day_of_week','NEIGHBORHOOD_ID', 'TIME','GEO_LAT','GEO_LON']]\n",
    "\n",
    "WCC_csv = WCC_csv.sample(6000)\n",
    "\n",
    "WCC_csv.to_csv('../CSV/WCC.csv')\n",
    "WCC_plot.to_csv('../CSV/WCC_Plot.csv')\n",
    "\n",
    "\n",
    "!python apriori.py -f '../CSV/WCC.csv' -s 0.0025"
   ]
  },
  {
   "cell_type": "code",
   "execution_count": null,
   "metadata": {
    "collapsed": true
   },
   "outputs": [],
   "source": []
  }
 ],
 "metadata": {
  "kernelspec": {
   "display_name": "Python 3",
   "language": "python",
   "name": "python3"
  },
  "language_info": {
   "codemirror_mode": {
    "name": "ipython",
    "version": 3
   },
   "file_extension": ".py",
   "mimetype": "text/x-python",
   "name": "python",
   "nbconvert_exporter": "python",
   "pygments_lexer": "ipython3",
   "version": "3.6.2"
  }
 },
 "nbformat": 4,
 "nbformat_minor": 2
}
