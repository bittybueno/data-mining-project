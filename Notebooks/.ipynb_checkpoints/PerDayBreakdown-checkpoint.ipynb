{
 "cells": [
  {
   "cell_type": "markdown",
   "metadata": {},
   "source": [
    "## Per Day Breakdown"
   ]
  },
  {
   "cell_type": "code",
   "execution_count": 6,
   "metadata": {},
   "outputs": [],
   "source": [
    "import pandas as pd\n",
    "from datetime import datetime, date, time, timedelta"
   ]
  },
  {
   "cell_type": "code",
   "execution_count": 27,
   "metadata": {},
   "outputs": [],
   "source": [
    "df = pd.read_csv('../CSV/crime.csv')"
   ]
  },
  {
   "cell_type": "code",
   "execution_count": 28,
   "metadata": {},
   "outputs": [],
   "source": [
    "df = df.loc[df['IS_CRIME'] == True]"
   ]
  },
  {
   "cell_type": "code",
   "execution_count": 29,
   "metadata": {},
   "outputs": [],
   "source": [
    "df['DATE'], df['TIME'] = df['FIRST_OCCURRENCE_DATE'].str.split(' ', 1).str\n",
    "df['DATE'] = pd.to_datetime(df['DATE'])\n",
    "df['DAY_OF_WEEK'] = df['DATE'].dt.day_name()"
   ]
  },
  {
   "cell_type": "code",
   "execution_count": 30,
   "metadata": {},
   "outputs": [],
   "source": [
    "daysOfWeek = [\"Sunday\", \"Monday\", \"Tuesday\", \"Wednesday\", \"Thursday\", \"Friday\", \"Saturday\"]\n",
    "days = []\n",
    "i = 0"
   ]
  },
  {
   "cell_type": "code",
   "execution_count": 31,
   "metadata": {
    "scrolled": true
   },
   "outputs": [
    {
     "name": "stderr",
     "output_type": "stream",
     "text": [
      "C:\\Users\\djs24\\Anaconda3\\lib\\site-packages\\ipykernel_launcher.py:5: SettingWithCopyWarning: \n",
      "A value is trying to be set on a copy of a slice from a DataFrame.\n",
      "Try using .loc[row_indexer,col_indexer] = value instead\n",
      "\n",
      "See the caveats in the documentation: http://pandas.pydata.org/pandas-docs/stable/user_guide/indexing.html#returning-a-view-versus-a-copy\n",
      "  \"\"\"\n"
     ]
    }
   ],
   "source": [
    "for day in daysOfWeek:\n",
    "    x = df[['OFFENSE_CATEGORY_ID', 'TIME', 'NEIGHBORHOOD_ID']]\n",
    "    days.append(x)\n",
    "    days[i] = days[i].loc[df.DAY_OF_WEEK == day]\n",
    "    days[i]['TIME'] = pd.to_datetime(days[i]['TIME'], format='%I:%M:%S %p')\n",
    "    i += 1"
   ]
  },
  {
   "cell_type": "code",
   "execution_count": 32,
   "metadata": {
    "scrolled": false
   },
   "outputs": [],
   "source": [
    "block1 = '1900-01-01 04:00:00'\n",
    "block2 = '1900-01-01 08:00:00'\n",
    "block3 = '1900-01-01 12:00:00'\n",
    "block4 = '1900-01-01 16:00:00'\n",
    "block5 = '1900-01-01 20:00:00'\n",
    "block6 = '1900-01-01 23:59:00'\n",
    "datetime_object1 = datetime.strptime(block1, '%Y-%m-%d %H:%M:%S')\n",
    "datetime_object2 = datetime.strptime(block2, '%Y-%m-%d %H:%M:%S')\n",
    "datetime_object3 = datetime.strptime(block3, '%Y-%m-%d %H:%M:%S')\n",
    "datetime_object4 = datetime.strptime(block4, '%Y-%m-%d %H:%M:%S')\n",
    "datetime_object5 = datetime.strptime(block5, '%Y-%m-%d %H:%M:%S')\n",
    "datetime_object6 = datetime.strptime(block6, '%Y-%m-%d %H:%M:%S')"
   ]
  },
  {
   "cell_type": "code",
   "execution_count": 33,
   "metadata": {},
   "outputs": [
    {
     "name": "stderr",
     "output_type": "stream",
     "text": [
      "C:\\Users\\djs24\\Anaconda3\\lib\\site-packages\\ipykernel_launcher.py:14: SettingWithCopyWarning: \n",
      "A value is trying to be set on a copy of a slice from a DataFrame.\n",
      "Try using .loc[row_indexer,col_indexer] = value instead\n",
      "\n",
      "See the caveats in the documentation: http://pandas.pydata.org/pandas-docs/stable/user_guide/indexing.html#returning-a-view-versus-a-copy\n",
      "  \n"
     ]
    }
   ],
   "source": [
    "for i in range(len(days)):\n",
    "    days[i].loc[days[i]['TIME'].dt.time <= datetime_object1.time(), 'TIME'] = datetime_object1\n",
    "\n",
    "    days[i].loc[(days[i]['TIME'].dt.time > datetime_object1.time())&(days[i]['TIME'].dt.time <= datetime_object2.time()), 'TIME'] = datetime_object2\n",
    "\n",
    "    days[i].loc[(days[i]['TIME'].dt.time > datetime_object2.time())&(days[i]['TIME'].dt.time <= datetime_object3.time()), 'TIME'] = datetime_object3\n",
    "\n",
    "    days[i].loc[(days[i]['TIME'].dt.time > datetime_object3.time())&(days[i]['TIME'].dt.time <= datetime_object4.time()), 'TIME'] = datetime_object4\n",
    "\n",
    "    days[i].loc[(days[i]['TIME'].dt.time > datetime_object4.time())&(days[i]['TIME'].dt.time <= datetime_object5.time()), 'TIME'] = datetime_object5\n",
    "\n",
    "    days[i].loc[(days[i]['TIME'].dt.time > datetime_object5.time())&(days[i]['TIME'].dt.time <= datetime_object6.time()), 'TIME'] = datetime_object6\n",
    "\n",
    "    days[i]['TIME'] = [d.time() for d in days[i]['TIME']]"
   ]
  },
  {
   "cell_type": "code",
   "execution_count": 38,
   "metadata": {},
   "outputs": [],
   "source": [
    "for i in range(len(days)):\n",
    "    exportToCSV = days[i][['OFFENSE_CATEGORY_ID', 'TIME', 'NEIGHBORHOOD_ID']]\n",
    "    exportToCSV = exportToCSV.sample(50000)\n",
    "    exportToCSV.to_csv('../CSV/crimes_' + daysOfWeek[i] + '.csv')"
   ]
  },
  {
   "cell_type": "code",
   "execution_count": 48,
   "metadata": {
    "scrolled": true
   },
   "outputs": [
    {
     "name": "stdout",
     "output_type": "stream",
     "text": [
      "item: ('union-station', 'all-other-crimes', '04:00:00') , 0.003\n",
      "item: ('stapleton', 'larceny', '16:00:00') , 0.004\n",
      "item: ('all-other-crimes', '04:00:00', 'westwood') , 0.004\n",
      "item: ('stapleton', 'larceny', '20:00:00') , 0.004\n",
      "item: ('23:59:00', 'all-other-crimes', 'westwood') , 0.004\n"
     ]
    },
    {
     "name": "stderr",
     "output_type": "stream",
     "text": [
      "./apriori.py:141: DeprecationWarning: 'U' mode is deprecated\n",
      "  file_iter = open(fname, 'rU')\n"
     ]
    }
   ],
   "source": [
    "!python ./apriori.py -f \"../CSV/crimes_Sunday.csv\" -s 0.003"
   ]
  },
  {
   "cell_type": "code",
   "execution_count": 49,
   "metadata": {},
   "outputs": [
    {
     "name": "stdout",
     "output_type": "stream",
     "text": [
      "item: ('five-points', 'all-other-crimes', '20:00:00') , 0.003\n",
      "item: ('cbd', 'larceny', '16:00:00') , 0.003\n",
      "item: ('cheesman-park', 'drug-alcohol', '20:00:00') , 0.003\n",
      "item: ('16:00:00', 'east-colfax', 'all-other-crimes') , 0.004\n",
      "item: ('08:00:00', 'all-other-crimes', 'civic-center') , 0.004\n",
      "item: ('16:00:00', 'all-other-crimes', 'civic-center') , 0.004\n",
      "item: ('five-points', 'drug-alcohol', '20:00:00') , 0.004\n",
      "item: ('16:00:00', 'stapleton', 'larceny') , 0.004\n",
      "item: ('stapleton', 'larceny', '20:00:00') , 0.004\n"
     ]
    },
    {
     "name": "stderr",
     "output_type": "stream",
     "text": [
      "./apriori.py:141: DeprecationWarning: 'U' mode is deprecated\n",
      "  file_iter = open(fname, 'rU')\n"
     ]
    }
   ],
   "source": [
    "!python ./apriori.py -f \"../CSV/crimes_Monday.csv\" -s 0.003"
   ]
  },
  {
   "cell_type": "code",
   "execution_count": 50,
   "metadata": {},
   "outputs": [
    {
     "name": "stdout",
     "output_type": "stream",
     "text": [
      "item: ('cheesman-park', '20:00:00', 'drug-alcohol') , 0.003\n",
      "item: ('civic-center', 'all-other-crimes', '08:00:00') , 0.003\n",
      "item: ('east-colfax', 'all-other-crimes', '16:00:00') , 0.003\n",
      "item: ('all-other-crimes', 'montbello', '20:00:00') , 0.003\n",
      "item: ('cbd', '16:00:00', 'larceny') , 0.004\n",
      "item: ('five-points', 'drug-alcohol', '16:00:00') , 0.004\n",
      "item: ('montbello', 'all-other-crimes', '16:00:00') , 0.004\n",
      "item: ('stapleton', '16:00:00', 'larceny') , 0.004\n",
      "item: ('stapleton', '20:00:00', 'larceny') , 0.004\n",
      "item: ('civic-center', 'all-other-crimes', '16:00:00') , 0.004\n",
      "item: ('five-points', '20:00:00', 'drug-alcohol') , 0.006\n"
     ]
    },
    {
     "name": "stderr",
     "output_type": "stream",
     "text": [
      "./apriori.py:141: DeprecationWarning: 'U' mode is deprecated\n",
      "  file_iter = open(fname, 'rU')\n"
     ]
    }
   ],
   "source": [
    "!python ./apriori.py -f \"../CSV/crimes_Tuesday.csv\" -s 0.003"
   ]
  },
  {
   "cell_type": "code",
   "execution_count": 51,
   "metadata": {},
   "outputs": [
    {
     "name": "stdout",
     "output_type": "stream",
     "text": [
      "item: ('five-points', '20:00:00', 'all-other-crimes') , 0.003\n",
      "item: ('cbd', 'larceny', '20:00:00') , 0.003\n",
      "item: ('all-other-crimes', 'east-colfax', '20:00:00') , 0.003\n",
      "item: ('cheesman-park', 'drug-alcohol', '20:00:00') , 0.003\n",
      "item: ('five-points', '16:00:00', 'drug-alcohol') , 0.003\n",
      "item: ('16:00:00', 'larceny', 'cbd') , 0.004\n",
      "item: ('16:00:00', 'capitol-hill', 'drug-alcohol') , 0.004\n",
      "item: ('capitol-hill', 'drug-alcohol', '20:00:00') , 0.004\n",
      "item: ('16:00:00', 'civic-center', 'all-other-crimes') , 0.004\n",
      "item: ('16:00:00', 'montbello', 'all-other-crimes') , 0.004\n",
      "item: ('16:00:00', 'stapleton', 'larceny') , 0.004\n",
      "item: ('stapleton', 'larceny', '20:00:00') , 0.004\n",
      "item: ('civic-center', '23:59:00', 'all-other-crimes') , 0.004\n",
      "item: ('five-points', 'drug-alcohol', '20:00:00') , 0.006\n"
     ]
    },
    {
     "name": "stderr",
     "output_type": "stream",
     "text": [
      "./apriori.py:141: DeprecationWarning: 'U' mode is deprecated\n",
      "  file_iter = open(fname, 'rU')\n"
     ]
    }
   ],
   "source": [
    "!python ./apriori.py -f \"../CSV/crimes_Wednesday.csv\" -s 0.003"
   ]
  },
  {
   "cell_type": "code",
   "execution_count": 52,
   "metadata": {},
   "outputs": [
    {
     "name": "stdout",
     "output_type": "stream",
     "text": [
      "item: ('drug-alcohol', '16:00:00', 'capitol-hill') , 0.003\n",
      "item: ('20:00:00', 'cbd', 'larceny') , 0.003\n",
      "item: ('drug-alcohol', '16:00:00', 'five-points') , 0.003\n",
      "item: ('all-other-crimes', '20:00:00', 'montbello') , 0.003\n",
      "item: ('all-other-crimes', '16:00:00', 'civic-center') , 0.003\n",
      "item: ('all-other-crimes', '16:00:00', 'montbello') , 0.003\n",
      "item: ('all-other-crimes', '23:59:00', 'civic-center') , 0.003\n",
      "item: ('20:00:00', 'drug-alcohol', 'capitol-hill') , 0.004\n",
      "item: ('all-other-crimes', '20:00:00', 'cbd') , 0.004\n",
      "item: ('all-other-crimes', '23:59:00', 'westwood') , 0.004\n",
      "item: ('16:00:00', 'cbd', 'larceny') , 0.004\n",
      "item: ('16:00:00', 'larceny', 'stapleton') , 0.004\n",
      "item: ('20:00:00', 'stapleton', 'larceny') , 0.005\n",
      "item: ('20:00:00', 'drug-alcohol', 'five-points') , 0.006\n"
     ]
    },
    {
     "name": "stderr",
     "output_type": "stream",
     "text": [
      "./apriori.py:141: DeprecationWarning: 'U' mode is deprecated\n",
      "  file_iter = open(fname, 'rU')\n"
     ]
    }
   ],
   "source": [
    "!python ./apriori.py -f \"../CSV/crimes_Thursday.csv\" -s 0.003"
   ]
  },
  {
   "cell_type": "code",
   "execution_count": 53,
   "metadata": {},
   "outputs": [
    {
     "name": "stdout",
     "output_type": "stream",
     "text": [
      "item: ('23:59:00', 'all-other-crimes', 'montbello') , 0.003\n",
      "item: ('23:59:00', 'five-points', 'drug-alcohol') , 0.003\n",
      "item: ('five-points', 'all-other-crimes', '20:00:00') , 0.003\n",
      "item: ('all-other-crimes', '16:00:00', 'montbello') , 0.003\n",
      "item: ('five-points', 'all-other-crimes', '23:59:00') , 0.003\n",
      "item: ('cbd', '16:00:00', 'larceny') , 0.003\n",
      "item: ('23:59:00', 'all-other-crimes', 'westwood') , 0.004\n",
      "item: ('five-points', 'drug-alcohol', '20:00:00') , 0.004\n",
      "item: ('stapleton', '16:00:00', 'larceny') , 0.004\n",
      "item: ('stapleton', 'larceny', '20:00:00') , 0.004\n",
      "item: ('all-other-crimes', 'civic-center', '16:00:00') , 0.006\n"
     ]
    },
    {
     "name": "stderr",
     "output_type": "stream",
     "text": [
      "./apriori.py:141: DeprecationWarning: 'U' mode is deprecated\n",
      "  file_iter = open(fname, 'rU')\n"
     ]
    }
   ],
   "source": [
    "!python ./apriori.py -f \"../CSV/crimes_Friday.csv\" -s 0.003"
   ]
  },
  {
   "cell_type": "code",
   "execution_count": 54,
   "metadata": {},
   "outputs": [
    {
     "name": "stdout",
     "output_type": "stream",
     "text": [
      "item: ('all-other-crimes', 'union-station', '04:00:00') , 0.003\n",
      "item: ('all-other-crimes', 'five-points', '04:00:00') , 0.003\n",
      "item: ('20:00:00', 'drug-alcohol', 'five-points') , 0.003\n",
      "item: ('cbd', 'larceny', '20:00:00') , 0.003\n",
      "item: ('20:00:00', 'all-other-crimes', 'cbd') , 0.003\n",
      "item: ('20:00:00', 'all-other-crimes', 'five-points') , 0.004\n",
      "item: ('all-other-crimes', 'westwood', '04:00:00') , 0.004\n",
      "item: ('all-other-crimes', '23:59:00', 'five-points') , 0.004\n",
      "item: ('all-other-crimes', '23:59:00', 'montbello') , 0.004\n",
      "item: ('all-other-crimes', '23:59:00', 'westwood') , 0.004\n",
      "item: ('stapleton', 'larceny', '16:00:00') , 0.004\n",
      "item: ('20:00:00', 'larceny', 'stapleton') , 0.005\n"
     ]
    },
    {
     "name": "stderr",
     "output_type": "stream",
     "text": [
      "./apriori.py:141: DeprecationWarning: 'U' mode is deprecated\n",
      "  file_iter = open(fname, 'rU')\n"
     ]
    }
   ],
   "source": [
    "!python ./apriori.py -f \"../CSV/crimes_Saturday.csv\" -s 0.003"
   ]
  },
  {
   "cell_type": "code",
   "execution_count": null,
   "metadata": {},
   "outputs": [],
   "source": []
  }
 ],
 "metadata": {
  "kernelspec": {
   "display_name": "Python 3",
   "language": "python",
   "name": "python3"
  },
  "language_info": {
   "codemirror_mode": {
    "name": "ipython",
    "version": 3
   },
   "file_extension": ".py",
   "mimetype": "text/x-python",
   "name": "python",
   "nbconvert_exporter": "python",
   "pygments_lexer": "ipython3",
   "version": "3.7.4"
  }
 },
 "nbformat": 4,
 "nbformat_minor": 2
}
