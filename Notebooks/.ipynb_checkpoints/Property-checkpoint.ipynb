{
 "cells": [
  {
   "cell_type": "code",
   "execution_count": 1,
   "metadata": {
    "collapsed": true,
    "scrolled": true
   },
   "outputs": [],
   "source": [
    "import pandas as pd \n",
    "from datetime import datetime, date, time, timedelta\n",
    "\n",
    "df = pd.read_csv(\"crime.csv\") "
   ]
  },
  {
   "cell_type": "code",
   "execution_count": 2,
   "metadata": {
    "collapsed": true
   },
   "outputs": [],
   "source": [
    "df['DATE'], df['TIME'] = df['FIRST_OCCURRENCE_DATE'].str.split(' ', 1).str\n",
    "df['DATE'] = pd.to_datetime(df['DATE'])\n",
    "df['day_of_week'] = df['DATE'].dt.day_name()"
   ]
  },
  {
   "cell_type": "code",
   "execution_count": 3,
   "metadata": {
    "collapsed": true
   },
   "outputs": [],
   "source": [
    "df_property = df[['OFFENSE_CATEGORY_ID', 'TIME', 'day_of_week','NEIGHBORHOOD_ID','GEO_LON','GEO_LAT']]\n",
    "df_property = df_property.loc[(df_property.OFFENSE_CATEGORY_ID == 'arson')|(df_property.OFFENSE_CATEGORY_ID == 'theft-from-motor-vehicle')|(df_property.OFFENSE_CATEGORY_ID == 'larceny')|(df_property.OFFENSE_CATEGORY_ID == 'burglary')|(df_property.OFFENSE_CATEGORY_ID == 'auto-theft')].copy()\n",
    "df_property_am =  df_property.loc[df_property.TIME.str[-2:] == \"AM\" ].copy()\n",
    "df_property_am['TIME'] = [x[:-3] for x in df_property_am['TIME']]\n",
    "df_property_am['TIME'] =  pd.to_datetime(df_property_am['TIME'], format='%H:%M:%S')\n",
    "\n",
    "df_property = df_property[['OFFENSE_CATEGORY_ID', 'TIME', 'day_of_week','NEIGHBORHOOD_ID','GEO_LON','GEO_LAT']]\n",
    "df_property = df_property.loc[(df_property.OFFENSE_CATEGORY_ID == 'arson')|(df_property.OFFENSE_CATEGORY_ID == 'theft-from-motor-vehicle')|(df_property.OFFENSE_CATEGORY_ID == 'larceny')|(df_property.OFFENSE_CATEGORY_ID == 'burglary')|(df_property.OFFENSE_CATEGORY_ID == 'auto-theft')].copy()\n",
    "df_property_pm =  df_property.loc[df_property.TIME.str[-2:] == \"PM\" ].copy()\n",
    "df_property_pm['TIME'] = [x[:-3] for x in df_property_pm['TIME']]\n",
    "df_property_pm['TIME'] =  pd.to_datetime(df_property_pm['TIME'], format='%H:%M:%S')\n",
    "df_property_pm['TIME'] = df_property_pm['TIME'] + timedelta(hours=12)\n"
   ]
  },
  {
   "cell_type": "code",
   "execution_count": 4,
   "metadata": {
    "collapsed": true
   },
   "outputs": [],
   "source": [
    "final_property = pd.concat([df_property_am, df_property_pm], ignore_index=True, sort =False)\n",
    "\n",
    "block1 = '09/19/18 04:00:00'\n",
    "block2 = '09/19/18 08:00:00'\n",
    "block3 = '09/19/18 12:00:00'\n",
    "block4 = '09/19/18 16:00:00'\n",
    "block5 = '09/19/18 20:00:00'\n",
    "block6 = '09/19/18 23:59:00'\n",
    "datetime_object1 = datetime.strptime(block1, '%m/%d/%y %H:%M:%S')\n",
    "datetime_object2 = datetime.strptime(block2, '%m/%d/%y %H:%M:%S')\n",
    "datetime_object3 = datetime.strptime(block3, '%m/%d/%y %H:%M:%S')\n",
    "datetime_object4 = datetime.strptime(block4, '%m/%d/%y %H:%M:%S')\n",
    "datetime_object5 = datetime.strptime(block5, '%m/%d/%y %H:%M:%S')\n",
    "datetime_object6 = datetime.strptime(block6, '%m/%d/%y %H:%M:%S')\n"
   ]
  },
  {
   "cell_type": "code",
   "execution_count": 5,
   "metadata": {
    "scrolled": true
   },
   "outputs": [],
   "source": [
    "final_property.loc[final_property['TIME'].dt.time <= datetime_object1.time(), 'TIME'] = datetime_object1\n",
    "\n",
    "final_property.loc[(final_property['TIME'].dt.time > datetime_object1.time())&(final_property['TIME'].dt.time <= datetime_object2.time()), 'TIME'] = datetime_object2\n",
    "\n",
    "final_property.loc[(final_property['TIME'].dt.time > datetime_object2.time())&(final_property['TIME'].dt.time <= datetime_object3.time()), 'TIME'] = datetime_object3\n",
    "\n",
    "final_property.loc[(final_property['TIME'].dt.time > datetime_object3.time())&(final_property['TIME'].dt.time <= datetime_object4.time()), 'TIME'] = datetime_object4\n",
    "\n",
    "final_property.loc[(final_property['TIME'].dt.time > datetime_object4.time())&(final_property['TIME'].dt.time <= datetime_object5.time()), 'TIME'] = datetime_object5\n",
    "\n",
    "final_property.loc[(final_property['TIME'].dt.time > datetime_object5.time())&(final_property['TIME'].dt.time <= datetime_object6.time()), 'TIME'] = datetime_object6\n",
    "\n",
    "\n",
    "\n",
    "final_property['TIME'] = [d.time() for d in final_property['TIME']]"
   ]
  },
  {
   "cell_type": "code",
   "execution_count": 6,
   "metadata": {},
   "outputs": [
    {
     "name": "stdout",
     "output_type": "stream",
     "text": [
      "item: ('five-points', '20:00:00', 'Friday') , 0.002\r\n",
      "item: ('20:00:00', 'Monday', 'stapleton') , 0.002\r\n",
      "item: ('five-points', '23:59:00', 'Saturday') , 0.002\r\n",
      "item: ('20:00:00', 'Saturday', 'stapleton') , 0.002\r\n",
      "item: ('20:00:00', 'Friday', 'stapleton') , 0.003\r\n",
      "item: ('20:00:00', 'Wednesday', 'stapleton') , 0.003\r\n",
      "item: ('20:00:00', 'stapleton', 'Thursday') , 0.003\r\n",
      "item: ('20:00:00', 'stapleton', 'Tuesday') , 0.003\r\n"
     ]
    }
   ],
   "source": [
    "property_csv = final_property[['day_of_week','NEIGHBORHOOD_ID', 'TIME']]\n",
    "property_plot = final_property[['day_of_week','NEIGHBORHOOD_ID', 'TIME','GEO_LON','GEO_LAT']]\n",
    "property_csv = property_csv.sample(40000)\n",
    "property_csv.to_csv('../CSV/Property.csv')\n",
    "property_plot.to_csv('../CSV/Property_Plot.csv')\n",
    "\n",
    "\n",
    "!python apriori.py -f '../CSV/Property.csv' -s 0.002"
   ]
  },
  {
   "cell_type": "code",
   "execution_count": null,
   "metadata": {
    "collapsed": true
   },
   "outputs": [],
   "source": []
  }
 ],
 "metadata": {
  "kernelspec": {
   "display_name": "Python 3",
   "language": "python",
   "name": "python3"
  },
  "language_info": {
   "codemirror_mode": {
    "name": "ipython",
    "version": 3
   },
   "file_extension": ".py",
   "mimetype": "text/x-python",
   "name": "python",
   "nbconvert_exporter": "python",
   "pygments_lexer": "ipython3",
   "version": "3.6.2"
  }
 },
 "nbformat": 4,
 "nbformat_minor": 2
}
