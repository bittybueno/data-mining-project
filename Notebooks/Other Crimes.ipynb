{
 "cells": [
  {
   "cell_type": "code",
   "execution_count": 1,
   "metadata": {
    "collapsed": true
   },
   "outputs": [],
   "source": [
    "import pandas as pd \n",
    "from datetime import datetime, date, time, timedelta\n",
    "\n",
    "df = pd.read_csv(\"crime.csv\") \n"
   ]
  },
  {
   "cell_type": "code",
   "execution_count": 2,
   "metadata": {
    "collapsed": true,
    "scrolled": true
   },
   "outputs": [],
   "source": [
    "df['DATE'], df['TIME'] = df['FIRST_OCCURRENCE_DATE'].str.split(' ', 1).str\n",
    "df['DATE'] = pd.to_datetime(df['DATE'])\n",
    "df['day_of_week'] = df['DATE'].dt.day_name()"
   ]
  },
  {
   "cell_type": "code",
   "execution_count": 3,
   "metadata": {
    "collapsed": true,
    "scrolled": true
   },
   "outputs": [],
   "source": [
    "df_other = df[['OFFENSE_CATEGORY_ID', 'TIME', 'day_of_week','NEIGHBORHOOD_ID','GEO_LAT','GEO_LON']]\n",
    "df_other = df_other.loc[df_other.OFFENSE_CATEGORY_ID == 'all-other-crimes'].copy()\n",
    "df_other_am =  df_other.loc[df_other.TIME.str[-2:] == \"AM\" ].copy()\n",
    "df_other_am['TIME'] = [x[:-3] for x in df_other_am['TIME']]\n",
    "df_other_am['TIME'] =  pd.to_datetime(df_other_am['TIME'], format='%H:%M:%S')\n",
    "\n",
    "df_other = df_other[['OFFENSE_CATEGORY_ID', 'TIME', 'day_of_week','NEIGHBORHOOD_ID','GEO_LAT','GEO_LON']]\n",
    "df_other = df_other.loc[df_other.OFFENSE_CATEGORY_ID == 'all-other-crimes'].copy()\n",
    "df_other_pm =  df_other.loc[df_other.TIME.str[-2:] == \"PM\" ].copy()\n",
    "df_other_pm['TIME'] = [x[:-3] for x in df_other_pm['TIME']]\n",
    "df_other_pm['TIME'] =  pd.to_datetime(df_other_pm['TIME'], format='%H:%M:%S')\n",
    "df_other_pm['TIME'] = df_other_pm['TIME'] + timedelta(hours=12)\n"
   ]
  },
  {
   "cell_type": "code",
   "execution_count": 4,
   "metadata": {
    "collapsed": true
   },
   "outputs": [],
   "source": [
    "final_other = pd.concat([df_other_pm, df_other_am], ignore_index=True, sort =False)\n",
    "\n",
    "block1 = '09/19/18 04:00:00'\n",
    "block2 = '09/19/18 08:00:00'\n",
    "block3 = '09/19/18 12:00:00'\n",
    "block4 = '09/19/18 16:00:00'\n",
    "block5 = '09/19/18 20:00:00'\n",
    "block6 = '09/19/18 23:59:00'\n",
    "datetime_object1 = datetime.strptime(block1, '%m/%d/%y %H:%M:%S')\n",
    "datetime_object2 = datetime.strptime(block2, '%m/%d/%y %H:%M:%S')\n",
    "datetime_object3 = datetime.strptime(block3, '%m/%d/%y %H:%M:%S')\n",
    "datetime_object4 = datetime.strptime(block4, '%m/%d/%y %H:%M:%S')\n",
    "datetime_object5 = datetime.strptime(block5, '%m/%d/%y %H:%M:%S')\n",
    "datetime_object6 = datetime.strptime(block6, '%m/%d/%y %H:%M:%S')\n"
   ]
  },
  {
   "cell_type": "code",
   "execution_count": 5,
   "metadata": {
    "scrolled": true
   },
   "outputs": [],
   "source": [
    "final_other.loc[final_other['TIME'].dt.time <= datetime_object1.time(), 'TIME'] = datetime_object1\n",
    "\n",
    "final_other.loc[(final_other['TIME'].dt.time > datetime_object1.time())&(final_other['TIME'].dt.time <= datetime_object2.time()), 'TIME'] = datetime_object2\n",
    "\n",
    "final_other.loc[(final_other['TIME'].dt.time > datetime_object2.time())&(final_other['TIME'].dt.time <= datetime_object3.time()), 'TIME'] = datetime_object3\n",
    "\n",
    "final_other.loc[(final_other['TIME'].dt.time > datetime_object3.time())&(final_other['TIME'].dt.time <= datetime_object4.time()), 'TIME'] = datetime_object4\n",
    "\n",
    "final_other.loc[(final_other['TIME'].dt.time > datetime_object4.time())&(final_other['TIME'].dt.time <= datetime_object5.time()), 'TIME'] = datetime_object5\n",
    "\n",
    "final_other.loc[(final_other['TIME'].dt.time > datetime_object5.time())&(final_other['TIME'].dt.time <= datetime_object6.time()), 'TIME'] = datetime_object6\n",
    "\n",
    "\n",
    "\n",
    "final_other['TIME'] = [d.time() for d in final_other['TIME']]"
   ]
  },
  {
   "cell_type": "code",
   "execution_count": 6,
   "metadata": {},
   "outputs": [
    {
     "name": "stdout",
     "output_type": "stream",
     "text": [
      "item: ('20:00:00', 'five-points', 'Saturday') , 0.002\r\n",
      "item: ('20:00:00', 'montbello', 'Tuesday') , 0.002\r\n",
      "item: ('20:00:00', 'cbd', 'Saturday') , 0.002\r\n",
      "item: ('montbello', '16:00:00', 'Thursday') , 0.002\r\n",
      "item: ('montbello', '16:00:00', 'Wednesday') , 0.002\r\n",
      "item: ('montbello', '23:59:00', 'Saturday') , 0.002\r\n",
      "item: ('westwood', '23:59:00', 'Friday') , 0.002\r\n",
      "item: ('Monday', '16:00:00', 'civic-center') , 0.002\r\n",
      "item: ('montbello', '16:00:00', 'Friday') , 0.002\r\n",
      "item: ('westwood', '23:59:00', 'Thursday') , 0.002\r\n",
      "item: ('16:00:00', 'Wednesday', 'civic-center') , 0.002\r\n",
      "item: ('16:00:00', 'civic-center', 'Thursday') , 0.002\r\n",
      "item: ('westwood', 'Saturday', '23:59:00') , 0.002\r\n",
      "item: ('westwood', '23:59:00', 'Sunday') , 0.002\r\n",
      "item: ('20:00:00', 'cbd', 'Thursday') , 0.002\r\n",
      "item: ('Monday', '16:00:00', 'east-colfax') , 0.002\r\n",
      "item: ('16:00:00', 'civic-center', 'Tuesday') , 0.002\r\n",
      "item: ('Wednesday', 'civic-center', '23:59:00') , 0.003\r\n",
      "item: ('16:00:00', 'civic-center', 'Friday') , 0.003\r\n"
     ]
    }
   ],
   "source": [
    "other_csv = final_other[['day_of_week','NEIGHBORHOOD_ID', 'TIME']]\n",
    "other_plot = final_other[['day_of_week','NEIGHBORHOOD_ID', 'TIME','GEO_LAT','GEO_LON']]\n",
    "\n",
    "other_csv = other_csv.sample(40000)\n",
    "\n",
    "other_csv.to_csv('../CSV/All-Other-Crimes.csv')\n",
    "other_plot.to_csv('../CSV/All-Other-Crimes_Plot.csv')\n",
    "\n",
    "!python apriori.py -f '../CSV/All-Other-Crimes.csv' -s 0.002"
   ]
  },
  {
   "cell_type": "code",
   "execution_count": null,
   "metadata": {
    "collapsed": true
   },
   "outputs": [],
   "source": []
  }
 ],
 "metadata": {
  "kernelspec": {
   "display_name": "Python 3",
   "language": "python",
   "name": "python3"
  },
  "language_info": {
   "codemirror_mode": {
    "name": "ipython",
    "version": 3
   },
   "file_extension": ".py",
   "mimetype": "text/x-python",
   "name": "python",
   "nbconvert_exporter": "python",
   "pygments_lexer": "ipython3",
   "version": "3.6.2"
  }
 },
 "nbformat": 4,
 "nbformat_minor": 2
}
