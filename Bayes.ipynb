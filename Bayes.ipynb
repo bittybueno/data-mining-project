{
 "cells": [
  {
   "cell_type": "code",
   "execution_count": 35,
   "metadata": {
    "collapsed": true
   },
   "outputs": [],
   "source": [
    "import numpy as np\n",
    "\n",
    "import pandas as pd\n",
    "\n",
    "from sklearn.naive_bayes import GaussianNB\n",
    "\n",
    "from sklearn.preprocessing import LabelEncoder\n",
    "\n",
    "from sklearn.model_selection import train_test_split\n",
    "\n",
    "from sklearn.metrics import accuracy_score\n"
   ]
  },
  {
   "cell_type": "code",
   "execution_count": 36,
   "metadata": {},
   "outputs": [
    {
     "data": {
      "text/html": [
       "<div>\n",
       "<style scoped>\n",
       "    .dataframe tbody tr th:only-of-type {\n",
       "        vertical-align: middle;\n",
       "    }\n",
       "\n",
       "    .dataframe tbody tr th {\n",
       "        vertical-align: top;\n",
       "    }\n",
       "\n",
       "    .dataframe thead th {\n",
       "        text-align: right;\n",
       "    }\n",
       "</style>\n",
       "<table border=\"1\" class=\"dataframe\">\n",
       "  <thead>\n",
       "    <tr style=\"text-align: right;\">\n",
       "      <th></th>\n",
       "      <th>day_of_week</th>\n",
       "      <th>NEIGHBORHOOD_ID</th>\n",
       "      <th>TIME</th>\n",
       "      <th>TYPE</th>\n",
       "    </tr>\n",
       "  </thead>\n",
       "  <tbody>\n",
       "    <tr>\n",
       "      <th>0</th>\n",
       "      <td>Sunday</td>\n",
       "      <td>cherry-creek</td>\n",
       "      <td>16:00:00</td>\n",
       "      <td>property</td>\n",
       "    </tr>\n",
       "    <tr>\n",
       "      <th>1</th>\n",
       "      <td>Tuesday</td>\n",
       "      <td>stapleton</td>\n",
       "      <td>23:59:00</td>\n",
       "      <td>property</td>\n",
       "    </tr>\n",
       "    <tr>\n",
       "      <th>2</th>\n",
       "      <td>Monday</td>\n",
       "      <td>ruby-hill</td>\n",
       "      <td>23:59:00</td>\n",
       "      <td>property</td>\n",
       "    </tr>\n",
       "    <tr>\n",
       "      <th>3</th>\n",
       "      <td>Saturday</td>\n",
       "      <td>globeville</td>\n",
       "      <td>12:00:00</td>\n",
       "      <td>property</td>\n",
       "    </tr>\n",
       "    <tr>\n",
       "      <th>4</th>\n",
       "      <td>Wednesday</td>\n",
       "      <td>city-park</td>\n",
       "      <td>04:00:00</td>\n",
       "      <td>property</td>\n",
       "    </tr>\n",
       "    <tr>\n",
       "      <th>...</th>\n",
       "      <td>...</td>\n",
       "      <td>...</td>\n",
       "      <td>...</td>\n",
       "      <td>...</td>\n",
       "    </tr>\n",
       "    <tr>\n",
       "      <th>46995</th>\n",
       "      <td>Saturday</td>\n",
       "      <td>westwood</td>\n",
       "      <td>20:00:00</td>\n",
       "      <td>other</td>\n",
       "    </tr>\n",
       "    <tr>\n",
       "      <th>46996</th>\n",
       "      <td>Saturday</td>\n",
       "      <td>regis</td>\n",
       "      <td>12:00:00</td>\n",
       "      <td>other</td>\n",
       "    </tr>\n",
       "    <tr>\n",
       "      <th>46997</th>\n",
       "      <td>Friday</td>\n",
       "      <td>baker</td>\n",
       "      <td>23:59:00</td>\n",
       "      <td>other</td>\n",
       "    </tr>\n",
       "    <tr>\n",
       "      <th>46998</th>\n",
       "      <td>Tuesday</td>\n",
       "      <td>west-colfax</td>\n",
       "      <td>23:59:00</td>\n",
       "      <td>other</td>\n",
       "    </tr>\n",
       "    <tr>\n",
       "      <th>46999</th>\n",
       "      <td>Wednesday</td>\n",
       "      <td>bear-valley</td>\n",
       "      <td>16:00:00</td>\n",
       "      <td>other</td>\n",
       "    </tr>\n",
       "  </tbody>\n",
       "</table>\n",
       "<p>47000 rows × 4 columns</p>\n",
       "</div>"
      ],
      "text/plain": [
       "      day_of_week NEIGHBORHOOD_ID      TIME      TYPE\n",
       "0          Sunday    cherry-creek  16:00:00  property\n",
       "1         Tuesday       stapleton  23:59:00  property\n",
       "2          Monday       ruby-hill  23:59:00  property\n",
       "3        Saturday      globeville  12:00:00  property\n",
       "4       Wednesday       city-park  04:00:00  property\n",
       "...           ...             ...       ...       ...\n",
       "46995    Saturday        westwood  20:00:00     other\n",
       "46996    Saturday           regis  12:00:00     other\n",
       "46997      Friday           baker  23:59:00     other\n",
       "46998     Tuesday     west-colfax  23:59:00     other\n",
       "46999   Wednesday     bear-valley  16:00:00     other\n",
       "\n",
       "[47000 rows x 4 columns]"
      ]
     },
     "execution_count": 36,
     "metadata": {},
     "output_type": "execute_result"
    }
   ],
   "source": [
    "df_violent = pd.read_csv(\"Violent.csv\") \n",
    "df_violent = df_violent[['day_of_week', 'NEIGHBORHOOD_ID', 'TIME']]\n",
    "df_violent['TYPE'] = 'violent' \n",
    "\n",
    "df_WCC = pd.read_csv(\"WCC.csv\") \n",
    "df_WCC = df_WCC[['day_of_week', 'NEIGHBORHOOD_ID', 'TIME']]\n",
    "df_WCC['TYPE'] = 'WCC' \n",
    "\n",
    "df_property = pd.read_csv(\"Property.csv\") \n",
    "df_property = df_property[['day_of_week', 'NEIGHBORHOOD_ID', 'TIME']]\n",
    "df_property['TYPE'] = 'property' \n",
    "\n",
    "df_pd = pd.read_csv(\"PD.csv\") \n",
    "df_pd = df_pd[['day_of_week', 'NEIGHBORHOOD_ID', 'TIME']]\n",
    "df_pd['TYPE'] = 'public_disorder' \n",
    "\n",
    "df_da = pd.read_csv(\"DA.csv\") \n",
    "df_da = df_da[['day_of_week', 'NEIGHBORHOOD_ID', 'TIME']]\n",
    "df_da['TYPE'] = 'drug-alcohol' \n",
    "\n",
    "df_other = pd.read_csv(\"All-Other-Crimes.csv\") \n",
    "df_other = df_other[['day_of_week', 'NEIGHBORHOOD_ID', 'TIME']]\n",
    "df_other['TYPE'] = 'other' \n",
    "\n",
    "\n",
    "final = pd.concat([df_property,df_violent, df_WCC,df_da,df_pd,df_other], ignore_index=True, sort =False )\n",
    "final"
   ]
  },
  {
   "cell_type": "code",
   "execution_count": 37,
   "metadata": {
    "collapsed": true
   },
   "outputs": [],
   "source": [
    "number = LabelEncoder()\n",
    "\n",
    "final['day_of_week'] = number.fit_transform(final['day_of_week'])\n",
    "\n",
    "final['NEIGHBORHOOD_ID'] = number.fit_transform(final['NEIGHBORHOOD_ID'])\n",
    "\n",
    "final['TIME'] = number.fit_transform(final['TIME'])\n",
    "\n",
    "final['TYPE'] = number.fit_transform(final['TYPE'])\n",
    "\n"
   ]
  },
  {
   "cell_type": "code",
   "execution_count": 38,
   "metadata": {
    "collapsed": true
   },
   "outputs": [],
   "source": [
    "features = [\"day_of_week\", \"NEIGHBORHOOD_ID\", \"TIME\"]\n",
    "\n",
    "target = \"TYPE\"\n"
   ]
  },
  {
   "cell_type": "code",
   "execution_count": 75,
   "metadata": {
    "collapsed": true
   },
   "outputs": [],
   "source": [
    "features_train, features_test, target_train, target_test = train_test_split(final[features],\n",
    "final[target],\n",
    "test_size = 0.33,\n",
    "random_state = 54)\n"
   ]
  },
  {
   "cell_type": "code",
   "execution_count": 76,
   "metadata": {},
   "outputs": [
    {
     "data": {
      "text/plain": [
       "GaussianNB(priors=None, var_smoothing=1e-09)"
      ]
     },
     "execution_count": 76,
     "metadata": {},
     "output_type": "execute_result"
    }
   ],
   "source": [
    "model = GaussianNB()\n",
    "model.fit(features_train, target_train)\n"
   ]
  },
  {
   "cell_type": "code",
   "execution_count": 77,
   "metadata": {},
   "outputs": [
    {
     "data": {
      "text/plain": [
       "0.2256608639587363"
      ]
     },
     "execution_count": 77,
     "metadata": {},
     "output_type": "execute_result"
    }
   ],
   "source": [
    "pred = model.predict(features_test)\n",
    "accuracy = accuracy_score(target_test, pred)\n",
    "accuracy"
   ]
  },
  {
   "cell_type": "code",
   "execution_count": 78,
   "metadata": {},
   "outputs": [
    {
     "data": {
      "text/plain": [
       "array([4])"
      ]
     },
     "execution_count": 78,
     "metadata": {},
     "output_type": "execute_result"
    }
   ],
   "source": [
    "model.predict([[1,2,0]])\n"
   ]
  },
  {
   "cell_type": "code",
   "execution_count": 79,
   "metadata": {},
   "outputs": [
    {
     "name": "stdout",
     "output_type": "stream",
     "text": [
      "{'WCC': 1, 'drug-alcohol': 2, 'other': 3, 'property': 4, 'public_disorder': 5, 'violent': 6}\n"
     ]
    }
   ],
   "source": [
    "mapping = dict(zip(number.classes_, range(1, len(number.classes_)+1)))\n",
    "print(mapping)"
   ]
  },
  {
   "cell_type": "code",
   "execution_count": 80,
   "metadata": {},
   "outputs": [
    {
     "data": {
      "text/plain": [
       "array(['WCC', 'drug-alcohol', 'other', 'property', 'public_disorder',\n",
       "       'violent'], dtype=object)"
      ]
     },
     "execution_count": 80,
     "metadata": {},
     "output_type": "execute_result"
    }
   ],
   "source": [
    "number.classes_"
   ]
  },
  {
   "cell_type": "code",
   "execution_count": null,
   "metadata": {
    "collapsed": true
   },
   "outputs": [],
   "source": []
  },
  {
   "cell_type": "code",
   "execution_count": null,
   "metadata": {
    "collapsed": true
   },
   "outputs": [],
   "source": []
  },
  {
   "cell_type": "code",
   "execution_count": null,
   "metadata": {
    "collapsed": true
   },
   "outputs": [],
   "source": []
  },
  {
   "cell_type": "code",
   "execution_count": null,
   "metadata": {
    "collapsed": true
   },
   "outputs": [],
   "source": []
  }
 ],
 "metadata": {
  "kernelspec": {
   "display_name": "Python 3",
   "language": "python",
   "name": "python3"
  },
  "language_info": {
   "codemirror_mode": {
    "name": "ipython",
    "version": 3
   },
   "file_extension": ".py",
   "mimetype": "text/x-python",
   "name": "python",
   "nbconvert_exporter": "python",
   "pygments_lexer": "ipython3",
   "version": "3.6.2"
  }
 },
 "nbformat": 4,
 "nbformat_minor": 2
}
