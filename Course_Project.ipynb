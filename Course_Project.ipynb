{
 "cells": [
  {
   "cell_type": "markdown",
   "metadata": {},
   "source": [
    "## Course Project"
   ]
  },
  {
   "cell_type": "code",
   "execution_count": 1,
   "metadata": {
    "collapsed": true
   },
   "outputs": [],
   "source": [
    "import pandas as pd\n",
    "from apyori import apriori, load_transactions"
   ]
  },
  {
   "cell_type": "code",
   "execution_count": 2,
   "metadata": {
    "collapsed": true,
    "scrolled": true
   },
   "outputs": [],
   "source": [
    "df = pd.read_csv('crime.csv')"
   ]
  },
  {
   "cell_type": "markdown",
   "metadata": {},
   "source": [
    "## Data Preprocessing\n",
    "### Data Cleaning\n"
   ]
  },
  {
   "cell_type": "code",
   "execution_count": 3,
   "metadata": {
    "collapsed": true,
    "scrolled": true
   },
   "outputs": [],
   "source": [
    "# Only focus on IS_CRIME\n",
    "df = df.loc[df['IS_CRIME'] == True]"
   ]
  },
  {
   "cell_type": "markdown",
   "metadata": {},
   "source": [
    "### Data Reduction"
   ]
  },
  {
   "cell_type": "code",
   "execution_count": 10,
   "metadata": {
    "collapsed": true,
    "scrolled": true
   },
   "outputs": [],
   "source": [
    "# For  Apriori: OFFENSE_CATEGORY_ID, NEIGHBORHOOD_ID\n",
    "df = df[[\"OFFENSE_CATEGORY_ID\", \"NEIGHBORHOOD_ID\" ]]"
   ]
  },
  {
   "cell_type": "code",
   "execution_count": 11,
   "metadata": {
    "collapsed": true
   },
   "outputs": [],
   "source": [
    "association_rules = apriori(df.values[0:10],min_support = 0.02, min_confidence = 0.1, min_lift = 3)\n",
    "association_results = list(association_rules)"
   ]
  },
  {
   "cell_type": "code",
   "execution_count": 12,
   "metadata": {},
   "outputs": [
    {
     "name": "stdout",
     "output_type": "stream",
     "text": [
      "                        Crime    Neighborhood Support Confidence     Lift\n",
      "0            all-other-crimes  city-park-west     0.1    0.33333  3.33333\n",
      "1            all-other-crimes       montbello     0.1    0.33333  3.33333\n",
      "2            all-other-crimes           speer     0.1    0.33333  3.33333\n",
      "3                     larceny         belcaro     0.1        1.0  3.33333\n",
      "4                     larceny    cherry-creek     0.1        1.0  3.33333\n",
      "5                   goldsmith    drug-alcohol     0.1        1.0     10.0\n",
      "6  gateway-green-valley-ranch         larceny     0.1        1.0  3.33333\n",
      "7    theft-from-motor-vehicle        highland     0.1        1.0  3.33333\n",
      "8    theft-from-motor-vehicle      villa-park     0.1    0.33333  3.33333\n",
      "9    theft-from-motor-vehicle       wellshire     0.1    0.33333  3.33333\n"
     ]
    }
   ],
   "source": [
    "results = []\n",
    "for item in association_results:\n",
    "    \n",
    "    # first index of the inner list\n",
    "    # Contains base item and add item\n",
    "    pair = item[0] \n",
    "    items = [x for x in pair]\n",
    "    \n",
    "    value0 = str(items[0])\n",
    "    value1 = str(items[1])\n",
    "\n",
    "    #second index of the inner list\n",
    "    value2 = str(item[1])[:7]\n",
    "\n",
    "    #third index of the list located at 0th\n",
    "    #of the third index of the inner list\n",
    "\n",
    "    value3 = str(item[2][0][2])[:7]\n",
    "    value4 = str(item[2][0][3])[:7]\n",
    "    \n",
    "    rows = (value0, value1,value2,value3,value4)\n",
    "    results.append(rows)\n",
    "    \n",
    "labels = ['Crime','Neighborhood','Support','Confidence','Lift']\n",
    "pretty_print = pd.DataFrame.from_records(results, columns = labels)\n",
    "\n",
    "print(pretty_print)"
   ]
  },
  {
   "cell_type": "markdown",
   "metadata": {
    "collapsed": true
   },
   "source": [
    "## Frequent Patterns\n",
    "###  Apriori Algorithm "
   ]
  },
  {
   "cell_type": "code",
   "execution_count": null,
   "metadata": {
    "collapsed": true
   },
   "outputs": [],
   "source": []
  }
 ],
 "metadata": {
  "kernelspec": {
   "display_name": "Python 3",
   "language": "python",
   "name": "python3"
  },
  "language_info": {
   "codemirror_mode": {
    "name": "ipython",
    "version": 3
   },
   "file_extension": ".py",
   "mimetype": "text/x-python",
   "name": "python",
   "nbconvert_exporter": "python",
   "pygments_lexer": "ipython3",
   "version": "3.6.2"
  }
 },
 "nbformat": 4,
 "nbformat_minor": 2
}
