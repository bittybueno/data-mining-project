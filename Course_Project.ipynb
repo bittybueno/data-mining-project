{
 "cells": [
  {
   "cell_type": "markdown",
   "metadata": {},
   "source": [
    "## Course Project"
   ]
  },
  {
   "cell_type": "code",
   "execution_count": 133,
   "metadata": {
    "collapsed": true
   },
   "outputs": [],
   "source": [
    "import pandas as pd\n",
    "from apyori import apriori, load_transactions"
   ]
  },
  {
   "cell_type": "code",
   "execution_count": 134,
   "metadata": {
    "collapsed": true,
    "scrolled": true
   },
   "outputs": [],
   "source": [
    "df = pd.read_csv('crime.csv')"
   ]
  },
  {
   "cell_type": "markdown",
   "metadata": {},
   "source": [
    "## Data Preprocessing\n",
    "### Data Cleaning\n"
   ]
  },
  {
   "cell_type": "code",
   "execution_count": 135,
   "metadata": {
    "scrolled": true
   },
   "outputs": [],
   "source": [
    "# Only focus on IS_CRIME\n",
    "df = df.loc[df['IS_CRIME'] == True]"
   ]
  },
  {
   "cell_type": "markdown",
   "metadata": {},
   "source": [
    "### Data Reduction"
   ]
  },
  {
   "cell_type": "code",
   "execution_count": 136,
   "metadata": {
    "scrolled": true
   },
   "outputs": [],
   "source": [
    "# For  Apriori: OFFENSE_CATEGORY_ID, FIRST_OCCURRENCE_DATE, NEIGHBORHOOD_ID\n",
    "df = df[[\"OFFENSE_CATEGORY_ID\", \"NEIGHBORHOOD_ID\", \"FIRST_OCCURRENCE_DATE\" ]]"
   ]
  },
  {
   "cell_type": "code",
   "execution_count": 137,
   "metadata": {},
   "outputs": [],
   "source": [
    "association_rules = apriori(df.values[0:10],min_support = 0.02, min_confidence = 0.1, min_lift = 3)\n",
    "association_results = list(association_rules)"
   ]
  },
  {
   "cell_type": "code",
   "execution_count": 138,
   "metadata": {},
   "outputs": [
    {
     "name": "stdout",
     "output_type": "stream",
     "text": [
      "                         Crime                Neighborhood Support Confidence  \\\n",
      "0                      belcaro        1/30/2018 7:20:00 PM     0.1        1.0   \n",
      "1                      larceny        1/30/2018 7:20:00 PM     0.1        1.0   \n",
      "2             all-other-crimes        1/30/2018 7:40:00 AM     0.1        1.0   \n",
      "3                        speer        1/30/2018 7:40:00 AM     0.1        1.0   \n",
      "4         1/30/2018 8:04:00 PM                drug-alcohol     0.1        1.0   \n",
      "5                    goldsmith        1/30/2018 8:04:00 PM     0.1        1.0   \n",
      "6        1/31/2018 12:44:00 AM            all-other-crimes     0.1        1.0   \n",
      "7        1/31/2018 12:44:00 AM              city-park-west     0.1        1.0   \n",
      "8                     highland       1/31/2018 12:55:00 AM     0.1        1.0   \n",
      "9     theft-from-motor-vehicle       1/31/2018 12:55:00 AM     0.1        1.0   \n",
      "10  gateway-green-valley-ranch      10/11/2017 12:30:00 PM     0.1        1.0   \n",
      "11                     larceny      10/11/2017 12:30:00 PM     0.1        1.0   \n",
      "12    theft-from-motor-vehicle         3/4/2016 8:00:00 PM     0.1        1.0   \n",
      "13                   wellshire         3/4/2016 8:00:00 PM     0.1        1.0   \n",
      "14        6/1/2017 12:15:00 PM    theft-from-motor-vehicle     0.1        1.0   \n",
      "15        6/1/2017 12:15:00 PM                  villa-park     0.1        1.0   \n",
      "16       6/15/2016 11:31:00 PM            all-other-crimes     0.1        1.0   \n",
      "17       6/15/2016 11:31:00 PM                   montbello     0.1        1.0   \n",
      "18                cherry-creek        6/22/2017 8:53:00 PM     0.1        1.0   \n",
      "19                     larceny        6/22/2017 8:53:00 PM     0.1        1.0   \n",
      "20            all-other-crimes              city-park-west     0.1    0.33333   \n",
      "21            all-other-crimes                   montbello     0.1    0.33333   \n",
      "22                       speer            all-other-crimes     0.1    0.33333   \n",
      "23                     larceny                     belcaro     0.1        1.0   \n",
      "24                     larceny                cherry-creek     0.1        1.0   \n",
      "25                   goldsmith                drug-alcohol     0.1        1.0   \n",
      "26                     larceny  gateway-green-valley-ranch     0.1        1.0   \n",
      "27                    highland    theft-from-motor-vehicle     0.1        1.0   \n",
      "28                  villa-park    theft-from-motor-vehicle     0.1    0.33333   \n",
      "29                   wellshire    theft-from-motor-vehicle     0.1    0.33333   \n",
      "30                     larceny                     belcaro     0.1        1.0   \n",
      "31                       speer            all-other-crimes     0.1        1.0   \n",
      "32                   goldsmith        1/30/2018 8:04:00 PM     0.1        1.0   \n",
      "33       1/31/2018 12:44:00 AM            all-other-crimes     0.1        1.0   \n",
      "34                    highland    theft-from-motor-vehicle     0.1        1.0   \n",
      "35                     larceny  gateway-green-valley-ranch     0.1        1.0   \n",
      "36                   wellshire    theft-from-motor-vehicle     0.1        1.0   \n",
      "37                  villa-park        6/1/2017 12:15:00 PM     0.1        1.0   \n",
      "38       6/15/2016 11:31:00 PM            all-other-crimes     0.1        1.0   \n",
      "39                     larceny                cherry-creek     0.1        1.0   \n",
      "\n",
      "       Lift  \n",
      "0      10.0  \n",
      "1   3.33333  \n",
      "2   3.33333  \n",
      "3      10.0  \n",
      "4      10.0  \n",
      "5      10.0  \n",
      "6   3.33333  \n",
      "7      10.0  \n",
      "8      10.0  \n",
      "9   3.33333  \n",
      "10     10.0  \n",
      "11  3.33333  \n",
      "12  3.33333  \n",
      "13     10.0  \n",
      "14  3.33333  \n",
      "15     10.0  \n",
      "16  3.33333  \n",
      "17     10.0  \n",
      "18     10.0  \n",
      "19  3.33333  \n",
      "20  3.33333  \n",
      "21  3.33333  \n",
      "22  3.33333  \n",
      "23  3.33333  \n",
      "24  3.33333  \n",
      "25     10.0  \n",
      "26  3.33333  \n",
      "27  3.33333  \n",
      "28  3.33333  \n",
      "29  3.33333  \n",
      "30  3.33333  \n",
      "31     10.0  \n",
      "32     10.0  \n",
      "33     10.0  \n",
      "34  3.33333  \n",
      "35  3.33333  \n",
      "36     10.0  \n",
      "37     10.0  \n",
      "38     10.0  \n",
      "39  3.33333  \n"
     ]
    }
   ],
   "source": [
    "results = []\n",
    "for item in association_results:\n",
    "    \n",
    "    # first index of the inner list\n",
    "    # Contains base item and add item\n",
    "    pair = item[0] \n",
    "    items = [x for x in pair]\n",
    "    \n",
    "    value0 = str(items[0])\n",
    "    value1 = str(items[1])\n",
    "\n",
    "    #second index of the inner list\n",
    "    value2 = str(item[1])[:7]\n",
    "\n",
    "    #third index of the list located at 0th\n",
    "    #of the third index of the inner list\n",
    "\n",
    "    value3 = str(item[2][0][2])[:7]\n",
    "    value4 = str(item[2][0][3])[:7]\n",
    "    \n",
    "    rows = (value0, value1,value2,value3,value4)\n",
    "    results.append(rows)\n",
    "    \n",
    "labels = ['Crime','Neighborhood','Support','Confidence','Lift']\n",
    "pretty_print = pd.DataFrame.from_records(results, columns = labels)\n",
    "\n",
    "print(pretty_print)"
   ]
  },
  {
   "cell_type": "markdown",
   "metadata": {
    "collapsed": true
   },
   "source": [
    "## Frequent Patterns\n",
    "###  Apriori Algorithm "
   ]
  },
  {
   "cell_type": "code",
   "execution_count": null,
   "metadata": {},
   "outputs": [],
   "source": []
  },
  {
   "cell_type": "code",
   "execution_count": null,
   "metadata": {
    "collapsed": true
   },
   "outputs": [],
   "source": []
  }
 ],
 "metadata": {
  "kernelspec": {
   "display_name": "Python 3",
   "language": "python",
   "name": "python3"
  },
  "language_info": {
   "codemirror_mode": {
    "name": "ipython",
    "version": 3
   },
   "file_extension": ".py",
   "mimetype": "text/x-python",
   "name": "python",
   "nbconvert_exporter": "python",
   "pygments_lexer": "ipython3",
   "version": "3.6.2"
  }
 },
 "nbformat": 4,
 "nbformat_minor": 2
}
