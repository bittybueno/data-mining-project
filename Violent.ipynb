{
 "cells": [
  {
   "cell_type": "code",
   "execution_count": 8,
   "metadata": {
    "collapsed": true
   },
   "outputs": [],
   "source": [
    "import pandas as pd \n",
    "from datetime import datetime, date, time, timedelta\n",
    "\n",
    " \n",
    "df = pd.read_csv(\"crime.csv\") "
   ]
  },
  {
   "cell_type": "code",
   "execution_count": 9,
   "metadata": {
    "collapsed": true,
    "scrolled": true
   },
   "outputs": [],
   "source": [
    "df['DATE'], df['TIME'] = df['FIRST_OCCURRENCE_DATE'].str.split(' ', 1).str\n",
    "\n",
    "\n",
    "df['DATE'] = pd.to_datetime(df['DATE'])\n",
    "df['day_of_week'] = df['DATE'].dt.day_name()"
   ]
  },
  {
   "cell_type": "code",
   "execution_count": 10,
   "metadata": {
    "collapsed": true
   },
   "outputs": [],
   "source": [
    "df_violent = df[['OFFENSE_CATEGORY_ID', 'TIME', 'day_of_week','NEIGHBORHOOD_ID','GEO_LON', 'GEO_LAT']]\n",
    "df_violent = df_violent.loc[(df_violent.OFFENSE_CATEGORY_ID == 'aggravated-assult')|(df_violent.OFFENSE_CATEGORY_ID == 'sexual-assult')|(df_violent.OFFENSE_CATEGORY_ID == 'robbery')|(df_violent.OFFENSE_CATEGORY_ID == 'murder')].copy()\n",
    "df_violent_am =  df_violent.loc[df_violent.TIME.str[-2:] == \"AM\" ].copy()\n",
    "df_violent_am['TIME'] = [x[:-3] for x in df_violent_am['TIME']]\n",
    "df_violent_am['TIME'] =  pd.to_datetime(df_violent_am['TIME'], format='%H:%M:%S')\n",
    "\n",
    "df_violent = df_violent[['OFFENSE_CATEGORY_ID', 'TIME', 'day_of_week','NEIGHBORHOOD_ID','GEO_LON','GEO_LAT']]\n",
    "df_violent = df_violent.loc[(df_violent.OFFENSE_CATEGORY_ID == 'aggravated-assult')|(df_violent.OFFENSE_CATEGORY_ID == 'sexual-assult')|(df_violent.OFFENSE_CATEGORY_ID == 'robbery')|(df_violent.OFFENSE_CATEGORY_ID == 'murder')].copy()\n",
    "df_violent_pm =  df_violent.loc[df_violent.TIME.str[-2:] == \"PM\" ].copy()\n",
    "df_violent_pm['TIME'] = [x[:-3] for x in df_violent_pm['TIME']]\n",
    "df_violent_pm['TIME'] =  pd.to_datetime(df_violent_pm['TIME'], format='%H:%M:%S')\n",
    "df_violent_pm['TIME'] = df_violent_pm['TIME'] + timedelta(hours=12)"
   ]
  },
  {
   "cell_type": "code",
   "execution_count": 11,
   "metadata": {
    "collapsed": true
   },
   "outputs": [],
   "source": [
    "final_violent = pd.concat([df_violent_am, df_violent_pm], ignore_index=True, sort =False)\n",
    "\n",
    "block1 = '09/19/18 04:00:00'\n",
    "block2 = '09/19/18 08:00:00'\n",
    "block3 = '09/19/18 12:00:00'\n",
    "block4 = '09/19/18 16:00:00'\n",
    "block5 = '09/19/18 20:00:00'\n",
    "block6 = '09/19/18 23:59:00'\n",
    "datetime_object1 = datetime.strptime(block1, '%m/%d/%y %H:%M:%S')\n",
    "datetime_object2 = datetime.strptime(block2, '%m/%d/%y %H:%M:%S')\n",
    "datetime_object3 = datetime.strptime(block3, '%m/%d/%y %H:%M:%S')\n",
    "datetime_object4 = datetime.strptime(block4, '%m/%d/%y %H:%M:%S')\n",
    "datetime_object5 = datetime.strptime(block5, '%m/%d/%y %H:%M:%S')\n",
    "datetime_object6 = datetime.strptime(block6, '%m/%d/%y %H:%M:%S')\n"
   ]
  },
  {
   "cell_type": "code",
   "execution_count": 12,
   "metadata": {
    "scrolled": false
   },
   "outputs": [],
   "source": [
    "final_violent.loc[final_violent['TIME'].dt.time <= datetime_object1.time(), 'TIME'] = datetime_object1\n",
    "\n",
    "final_violent.loc[(final_violent['TIME'].dt.time > datetime_object1.time())&(final_violent['TIME'].dt.time <= datetime_object2.time()), 'TIME'] = datetime_object2\n",
    "\n",
    "final_violent.loc[(final_violent['TIME'].dt.time > datetime_object2.time())&(final_violent['TIME'].dt.time <= datetime_object3.time()), 'TIME'] = datetime_object3\n",
    "\n",
    "final_violent.loc[(final_violent['TIME'].dt.time > datetime_object3.time())&(final_violent['TIME'].dt.time <= datetime_object4.time()), 'TIME'] = datetime_object4\n",
    "\n",
    "final_violent.loc[(final_violent['TIME'].dt.time > datetime_object4.time())&(final_violent['TIME'].dt.time <= datetime_object5.time()), 'TIME'] = datetime_object5\n",
    "\n",
    "final_violent.loc[(final_violent['TIME'].dt.time > datetime_object5.time())&(final_violent['TIME'].dt.time <= datetime_object6.time()), 'TIME'] = datetime_object6\n",
    "\n",
    "\n",
    "\n",
    "final_violent['TIME'] = [d.time() for d in final_violent['TIME']]"
   ]
  },
  {
   "cell_type": "code",
   "execution_count": 13,
   "metadata": {},
   "outputs": [
    {
     "name": "stdout",
     "output_type": "stream",
     "text": [
      "item: ('five-points', '23:59:00', 'Friday') , 0.003\r\n",
      "item: ('Sunday', 'union-station', '04:00:00') , 0.003\r\n",
      "item: ('five-points', '23:59:00', 'Monday') , 0.003\r\n",
      "item: ('union-station', '04:00:00', 'Saturday') , 0.004\r\n"
     ]
    }
   ],
   "source": [
    "violent_csv = final_violent[['day_of_week','NEIGHBORHOOD_ID', 'TIME']]\n",
    "violent_plot_csv = final_violent[['day_of_week','NEIGHBORHOOD_ID', 'TIME','GEO_LON', 'GEO_LAT']]\n",
    "violent_csv = violent_csv.sample(6000)\n",
    "violent_csv.to_csv('Violent.csv')\n",
    "violent_plot_csv.to_csv('Violent_Plot.csv')\n",
    "\n",
    "\n",
    "!python apriori.py -f 'Violent.csv' -s 0.003"
   ]
  }
 ],
 "metadata": {
  "kernelspec": {
   "display_name": "Python 3",
   "language": "python",
   "name": "python3"
  },
  "language_info": {
   "codemirror_mode": {
    "name": "ipython",
    "version": 3
   },
   "file_extension": ".py",
   "mimetype": "text/x-python",
   "name": "python",
   "nbconvert_exporter": "python",
   "pygments_lexer": "ipython3",
   "version": "3.6.2"
  }
 },
 "nbformat": 4,
 "nbformat_minor": 2
}
